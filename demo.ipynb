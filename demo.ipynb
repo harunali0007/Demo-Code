{
 "cells": [
  {
   "cell_type": "code",
   "execution_count": 180,
   "metadata": {},
   "outputs": [
    {
     "name": "stdout",
     "output_type": "stream",
     "text": [
      "30\n"
     ]
    }
   ],
   "source": [
    "a = int(input(\"Enter 1st no\"))\n",
    "b = int(input(\"Enter 2nd no\"))\n",
    "c = a+b\n",
    "print(c)"
   ]
  },
  {
   "cell_type": "code",
   "execution_count": 6,
   "metadata": {},
   "outputs": [
    {
     "name": "stdout",
     "output_type": "stream",
     "text": [
      "First number (100) is the largest.\n"
     ]
    }
   ],
   "source": [
    "# Taking user input\n",
    "num1 = int(input(\"Enter a first number : \"))\n",
    "num2 = int(input(\"Enter a second number : \"))\n",
    "num3 = int(input(\"Enter a third number : \"))\n",
    "\n",
    "# Condition checking\n",
    "\n",
    "if num1>num2 and num1>num3:\n",
    "  print(f\"First number ({num1}) is the largest.\")\n",
    "elif num2>num1 and num2>num3:\n",
    "  print(f\"Second number ({num2}) is the largest.\")\n",
    "else:\n",
    "  print(f\"Third number ({num3}) is the largest.\")"
   ]
  },
  {
   "cell_type": "code",
   "execution_count": 179,
   "metadata": {},
   "outputs": [
    {
     "name": "stdout",
     "output_type": "stream",
     "text": [
      "1\n",
      "2\n",
      "4\n",
      "7\n",
      "8\n",
      "11\n",
      "13\n",
      "14\n",
      "16\n",
      "17\n",
      "19\n"
     ]
    }
   ],
   "source": [
    "''''skip number which is devisible \n",
    "     by 3 or 5'''\n",
    "i=1\n",
    "j=1\n",
    "while i<=20:\n",
    "    if i%3==0 or i%5==0:\n",
    "        j=j+1\n",
    "    else:\n",
    "        print(i)\n",
    "    i=i+1 "
   ]
  },
  {
   "cell_type": "code",
   "execution_count": 42,
   "metadata": {},
   "outputs": [
    {
     "name": "stdout",
     "output_type": "stream",
     "text": [
      "*****\n",
      "*****\n",
      "*****\n",
      "*****\n",
      "*****\n"
     ]
    }
   ],
   "source": [
    "\n",
    "for i in range(5):\n",
    "    for j in range(5):\n",
    "        print(\"*\", end=\"\")\n",
    "    print()"
   ]
  },
  {
   "cell_type": "code",
   "execution_count": 128,
   "metadata": {},
   "outputs": [
    {
     "name": "stdout",
     "output_type": "stream",
     "text": [
      "#####\n",
      "#####\n",
      "#####\n",
      "#####\n",
      "#####\n"
     ]
    }
   ],
   "source": [
    "\n",
    "    \n",
    "''' print below pattern\n",
    "#####\n",
    "#####\n",
    "#####\n",
    "#####\n",
    "#####'''\n",
    "i = 1\n",
    "while i<=5:\n",
    "    j=1\n",
    "    while j<=5:\n",
    "        print(\"#\", end=\"\")\n",
    "        j=j+1\n",
    "    print(\"\")\n",
    "    i= i+1\n",
    "\n",
    "       \n",
    "\n",
    "        \n",
    "    \n",
    "    \n",
    "    "
   ]
  },
  {
   "cell_type": "code",
   "execution_count": null,
   "metadata": {},
   "outputs": [],
   "source": [
    "'''Perfect square root no 1 to 500'''\n",
    "\n",
    "for i in range(1,500):\n",
    "    \n",
    "    perfect_sqr=i \n",
    "    if math.sqrt(i) == math.floor(math.sqrt(i)):\n",
    "        print(\"The perfect squares are: \", perfect_sqr)"
   ]
  },
  {
   "cell_type": "code",
   "execution_count": 153,
   "metadata": {},
   "outputs": [
    {
     "name": "stdout",
     "output_type": "stream",
     "text": [
      "Prime\n"
     ]
    }
   ],
   "source": [
    "# Prime no \n",
    "num = int(input(\"Enter any number\"))\n",
    "flag = 0\n",
    "for i in range(2,num):\n",
    "  if num%i==0:\n",
    "    flag = 1\n",
    "    break\n",
    "if flag == 1:\n",
    "  print('Not Prime')\n",
    "else:\n",
    "  print(\"Prime\")"
   ]
  },
  {
   "cell_type": "code",
   "execution_count": null,
   "metadata": {},
   "outputs": [],
   "source": [
    "'''print the below pattern\n",
    "1234\n",
    "234\n",
    "34\n",
    "4\n",
    " '''\n",
    "for i in range(1, 5): \n",
    "    for j in range(i, 5):\n",
    "        print(j, end=\"\")\n",
    "    print() \n",
    "    "
   ]
  },
  {
   "cell_type": "code",
   "execution_count": 100,
   "metadata": {},
   "outputs": [
    {
     "name": "stdout",
     "output_type": "stream",
     "text": [
      "[17, 67, 75, 78, 88]\n"
     ]
    }
   ],
   "source": [
    "'''Write a program to sort \n",
    "an arrey in ascending order'''\n",
    "\n",
    "arr = [78,75,88,67,17]\n",
    "arr.sort()\n",
    "print(arr)"
   ]
  },
  {
   "cell_type": "code",
   "execution_count": 2,
   "metadata": {},
   "outputs": [
    {
     "name": "stdout",
     "output_type": "stream",
     "text": [
      "orignal array[4, 5, 6, 7, 8]\n",
      "4\n",
      "5\n",
      "7\n",
      "8\n"
     ]
    }
   ],
   "source": [
    "'''Create an array with five value and delete \n",
    "the value at index number 2 without using inbuit function'''\n",
    "\n",
    "'''arr = [11,12,14,15,45]\n",
    "length_of_array = len(arr)\n",
    "remove_index = arr[2]\n",
    "for i in arr:\n",
    "    if i == remove_index:\n",
    "        continue\n",
    "    else:\n",
    "        print(i)'''\n",
    "        \n",
    "arr = []\n",
    "n = int(input(\"Enter the length of array\"))\n",
    "for i in range(n):\n",
    "    x = int(input(\"Enter the next value\"))\n",
    "    arr.append(x)\n",
    "print (f\"orignal array{arr}\")\n",
    "\n",
    "length_of_array = len(arr)\n",
    "remove_index = arr[2]\n",
    "for i in arr:\n",
    "    if i == remove_index:\n",
    "        continue\n",
    "    else:\n",
    "        print(i)\n",
    "    \n",
    "\n",
    "\n",
    "\n",
    "    \n",
    "    "
   ]
  },
  {
   "cell_type": "code",
   "execution_count": 147,
   "metadata": {},
   "outputs": [
    {
     "name": "stdout",
     "output_type": "stream",
     "text": [
      "The factorial of 5 is 120\n"
     ]
    }
   ],
   "source": [
    "''' Factorial of a given no'''\n",
    "\n",
    "num = int(input(\"Enter any number\"))\n",
    "factorial = 1\n",
    "for i in range(1, num + 1):\n",
    "    factorial *= i\n",
    "print(f\"The factorial of {num} is {factorial}\")\n",
    "    "
   ]
  },
  {
   "cell_type": "code",
   "execution_count": null,
   "metadata": {},
   "outputs": [],
   "source": [
    "'''Write a code to reverse an array without using in built function'''\n",
    "\n",
    "arr = [1,2,3,5,6,8]\n",
    "for i in range(len(arr)-1):\n",
    "  arr.append(arr[-2-i])\n",
    "  del(arr[-3-i])\n",
    "print(arr)"
   ]
  },
  {
   "cell_type": "code",
   "execution_count": 160,
   "metadata": {},
   "outputs": [
    {
     "name": "stdout",
     "output_type": "stream",
     "text": [
      "[1, 2, 3, 4, 5, 6, 7, 8, 9, 10]\n"
     ]
    }
   ],
   "source": [
    "\"\"\"Write a code to add 2 arrays uising for loop\"\"\"\n",
    "\n",
    "a = [1,2,3,4,5]\n",
    "b = [6,7,8,9,10]\n",
    "\n",
    "for i in range(len(b)):\n",
    "    a.append(b[i])\n",
    "print (a)"
   ]
  },
  {
   "cell_type": "code",
   "execution_count": null,
   "metadata": {},
   "outputs": [],
   "source": [
    "\"\"\"Write a code to find the maximum value \n",
    "from an array without using in built function\"\"\"\n",
    "\n",
    "a = [51,10, 24, 76, 1, 23, 12,100]\n",
    "largest = a[0]\n",
    "for val in a:\n",
    "    if val > largest:\n",
    "        largest = val\n",
    "print(largest)\n",
    "    \n"
   ]
  }
 ],
 "metadata": {
  "kernelspec": {
   "display_name": "Python 3",
   "language": "python",
   "name": "python3"
  },
  "language_info": {
   "codemirror_mode": {
    "name": "ipython",
    "version": 3
   },
   "file_extension": ".py",
   "mimetype": "text/x-python",
   "name": "python",
   "nbconvert_exporter": "python",
   "pygments_lexer": "ipython3",
   "version": "3.13.0"
  }
 },
 "nbformat": 4,
 "nbformat_minor": 2
}
